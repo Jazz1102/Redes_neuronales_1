{
 "cells": [
  {
   "cell_type": "code",
   "execution_count": null,
   "id": "220256b1-4288-4b15-a723-302b71679ce0",
   "metadata": {},
   "outputs": [],
   "source": [
    "import torchvision"
   ]
  }
 ],
 "metadata": {
  "kernelspec": {
   "display_name": "Python 3 (ipykernel_update)",
   "language": "python",
   "name": "python_3_ipykernel"
  },
  "language_info": {
   "codemirror_mode": {
    "name": "ipython",
    "version": 3
   },
   "file_extension": ".py",
   "mimetype": "text/x-python",
   "name": "python",
   "nbconvert_exporter": "python",
   "pygments_lexer": "ipython3",
   "version": "3.11.10"
  }
 },
 "nbformat": 4,
 "nbformat_minor": 5
}
